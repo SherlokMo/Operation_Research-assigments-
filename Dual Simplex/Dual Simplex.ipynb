{
 "cells": [
  {
   "cell_type": "markdown",
   "metadata": {},
   "source": [
    "## Dual Simplex Method"
   ]
  },
  {
   "cell_type": "code",
   "execution_count": 1,
   "metadata": {},
   "outputs": [],
   "source": [
    "from scipy.spatial import HalfspaceIntersection, ConvexHull\n",
    "import numpy as np\n",
    "\n",
    "def render_inequalities(halfspaces, feasible_point, xlim, ylim):\n",
    "    hs = HalfspaceIntersection(np.array(halfspaces), np.array(feasible_point))\n",
    "    fig = plt.figure()\n",
    "    ax = fig.add_subplot('111', aspect='equal')\n",
    "    ax.set_xlim(xlim)\n",
    "    ax.set_ylim(ylim)\n",
    "\n",
    "    x = np.linspace(*xlim, 100)\n",
    "\n",
    "    for h in halfspaces:\n",
    "        if h[1]== 0:\n",
    "            ax.axvline(-h[2]/h[0], color=\"#2c3e50\")\n",
    "        else:\n",
    "            ax.plot(x, (-h[2]-h[0]*x)/h[1], color=\"#2c3e50\")\n",
    "    x, y = zip(*hs.intersections)\n",
    "    points = list(zip(x, y))\n",
    "    convex_hull = ConvexHull(points)\n",
    "    polygon = Polygon([points[v] for v in convex_hull.vertices], color=\"#34495e\")\n",
    "    ax.add_patch(polygon)\n",
    "    ax.plot(x, y, 'o', color=\"#e67e22\")"
   ]
  },
  {
   "cell_type": "code",
   "execution_count": 19,
   "metadata": {},
   "outputs": [],
   "source": [
    "def to_objective_function_value(c, solution):\n",
    "    return sum(np.array(c) * np.array(solution))"
   ]
  },
  {
   "cell_type": "code",
   "execution_count": 20,
   "metadata": {},
   "outputs": [
    {
     "name": "stdout",
     "output_type": "stream",
     "text": [
      "Primal:  4.75\n"
     ]
    }
   ],
   "source": [
    "c = [2, 3, 0, 0, 0]\n",
    "A = [\n",
    "    [4, 8, 1, 0, 0],\n",
    "    [2, 1, 0, 1, 0],\n",
    "    [3, 2, 0, 0, 1]\n",
    "]\n",
    "b = [12, 3, 4]\n",
    "\n",
    "primal = to_objective_function_value(c, simplex(c, A, b))\n",
    "print('Primal: ', primal)"
   ]
  },
  {
   "cell_type": "code",
   "execution_count": 21,
   "metadata": {},
   "outputs": [],
   "source": [
    "import math\n",
    "\n",
    "def can_be_improved_for_dual(tableau):\n",
    "    rhs_entries = [row[-1] for row in tableau[:-1]]\n",
    "    return any([entry < 0 for entry in rhs_entries])\n",
    "\n",
    "def get_pivot_position_for_dual(tableau):\n",
    "    rhs_entries = [row[-1] for row in tableau[:-1]]\n",
    "    min_rhs_value = min(rhs_entries)\n",
    "    row = rhs_entries.index(min_rhs_value)\n",
    "    \n",
    "    columns = []\n",
    "    for index, element in enumerate(tableau[row][:-1]):\n",
    "        if element < 0:\n",
    "            columns.append(index)\n",
    "    columns_values = [tableau[row][c] / tableau[-1][c] for c in columns]\n",
    "    column_min_index = columns_values.index(min(columns_values))\n",
    "    column = columns[column_min_index]\n",
    "\n",
    "    return row, column\n",
    "\n",
    "def dual_simplex(c, A, b):\n",
    "    tableau = to_tableau(c, A, b)\n",
    "\n",
    "    while can_be_improved_for_dual(tableau):\n",
    "        pivot_position = get_pivot_position_for_dual(tableau)\n",
    "        tableau = pivot_step(tableau, pivot_position)\n",
    "\n",
    "    return get_solution(tableau)"
   ]
  },
  {
   "cell_type": "code",
   "execution_count": 22,
   "metadata": {},
   "outputs": [
    {
     "name": "stdout",
     "output_type": "stream",
     "text": [
      "Dual:  4.75\n"
     ]
    }
   ],
   "source": [
    "c = [12, 3, 4, 0, 0]\n",
    "A = [\n",
    "    [-4, -2, -3,  1,  0],\n",
    "    [-8, -1, -2,  0,  1]\n",
    "]\n",
    "b = [-2, -3]\n",
    "\n",
    "dual = to_objective_function_value(c, dual_simplex(c, A, b))\n",
    "print('Dual: ', dual)"
   ]
  }
 ],
 "metadata": {
  "kernelspec": {
   "display_name": "Python 3",
   "language": "python",
   "name": "python3"
  },
  "language_info": {
   "codemirror_mode": {
    "name": "ipython",
    "version": 3
   },
   "file_extension": ".py",
   "mimetype": "text/x-python",
   "name": "python",
   "nbconvert_exporter": "python",
   "pygments_lexer": "ipython3",
   "version": "3.6.13"
  }
 },
 "nbformat": 4,
 "nbformat_minor": 2
}
